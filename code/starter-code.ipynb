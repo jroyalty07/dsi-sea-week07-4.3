{
 "cells": [
  {
   "cell_type": "markdown",
   "metadata": {},
   "source": [
    "## Lab 4.3. "
   ]
  },
  {
   "cell_type": "markdown",
   "metadata": {},
   "source": [
    "#### Setup your imports"
   ]
  },
  {
   "cell_type": "code",
   "execution_count": 2,
   "metadata": {
    "collapsed": false
   },
   "outputs": [],
   "source": [
    "import pandas as pd \n",
    "from sklearn.datasets import fetch_20newsgroups\n",
    "from sklearn.feature_extraction.text import CountVectorizer\n",
    "import numpy as np\n",
    "from sklearn.preprocessing import StandardScaler\n",
    "from sklearn.decomposition import PCA, TruncatedSVD\n",
    "from sklearn.cluster import KMeans\n",
    "from sklearn import metrics\n",
    "import matplotlib.pyplot as plt\n",
    "from sklearn.pipeline import make_pipeline\n",
    "from sklearn.preprocessing import Normalizer"
   ]
  },
  {
   "cell_type": "markdown",
   "metadata": {},
   "source": [
    "#### 1. Pull the training set from the newsgroup data\n",
    "The data has 20 different categories. Try to shrink down to smaller number of groups according to the definition here:\n",
    "http://scikit-learn.org/stable/datasets/twenty_newsgroups.html"
   ]
  },
  {
   "cell_type": "code",
   "execution_count": 3,
   "metadata": {
    "collapsed": false
   },
   "outputs": [],
   "source": [
    "data = fetch_20newsgroups(remove =['headers','footers','quotes'])\n",
    "# newsgroups_train = fetch_20newsgroups(subset='train', remove =['headers','footers','quotes'])\n",
    "# newsgroups_test = fetch_20newsgroups(subset='test', remove =['headers','footers','quotes'])\n",
    "\n",
    "# pick 4 news groups, specify categories, all\n"
   ]
  },
  {
   "cell_type": "code",
   "execution_count": 4,
   "metadata": {
    "collapsed": false
   },
   "outputs": [],
   "source": [
    "from sklearn.model_selection import train_test_split"
   ]
  },
  {
   "cell_type": "code",
   "execution_count": 5,
   "metadata": {
    "collapsed": false
   },
   "outputs": [],
   "source": [
    "categories = [\n",
    "    #'alt.atheism',\n",
    "    'talk.religion.misc',\n",
    "    'rec.sport.baseball',\n",
    "    'comp.sys.mac.hardware',\n",
    "    #'comp.graphics',\n",
    "    'sci.space',\n",
    "]\n",
    "true_k = len(categories)\n",
    "dataset = fetch_20newsgroups(subset='all', categories=categories,\n",
    "                             shuffle=True, random_state=42)"
   ]
  },
  {
   "cell_type": "code",
   "execution_count": null,
   "metadata": {
    "collapsed": true
   },
   "outputs": [],
   "source": []
  },
  {
   "cell_type": "markdown",
   "metadata": {},
   "source": [
    "#### 2. Create the vectorizer "
   ]
  },
  {
   "cell_type": "code",
   "execution_count": 6,
   "metadata": {
    "collapsed": false
   },
   "outputs": [],
   "source": [
    "from sklearn.feature_extraction.text import TfidfVectorizer\n",
    "\n",
    "tfidf = TfidfVectorizer(max_df=.5, max_features=1000,\n",
    "                                 min_df=2, stop_words='english',\n",
    "                                 use_idf=True, sublinear_tf=False, \n",
    "                                 analyzer = 'word',\n",
    "                                 token_pattern = '[a-zA-Z]{4,50}',\n",
    "                            )\n",
    "\n",
    "X = tfidf.fit_transform(dataset.data)\n",
    "y = dataset.target"
   ]
  },
  {
   "cell_type": "markdown",
   "metadata": {},
   "source": [
    "#### 3. Create the Truncated Singular Value Decomposition. "
   ]
  },
  {
   "cell_type": "code",
   "execution_count": 7,
   "metadata": {
    "collapsed": false
   },
   "outputs": [],
   "source": [
    "# SVD does latent semantic analysis then renormalize\n",
    "svd = TruncatedSVD(300)\n",
    "normalizer = Normalizer(copy=False)\n",
    "lsa = make_pipeline(svd, normalizer)"
   ]
  },
  {
   "cell_type": "markdown",
   "metadata": {},
   "source": [
    "#### 4. Setup your k-means clustering"
   ]
  },
  {
   "cell_type": "code",
   "execution_count": 8,
   "metadata": {
    "collapsed": false
   },
   "outputs": [],
   "source": [
    "# We cheat because we know there are 4 clusters\n",
    "km = KMeans(n_clusters=true_k, init='k-means++', max_iter=100, n_init=30,\n",
    "                verbose=0)"
   ]
  },
  {
   "cell_type": "markdown",
   "metadata": {},
   "source": [
    "#### 5. Fit the vectorizer and SVD"
   ]
  },
  {
   "cell_type": "code",
   "execution_count": 9,
   "metadata": {
    "collapsed": false
   },
   "outputs": [
    {
     "name": "stdout",
     "output_type": "stream",
     "text": [
      "Explained variance with LSA\n",
      "0.689539601633\n"
     ]
    }
   ],
   "source": [
    "X_lsa = lsa.fit_transform(X)\n",
    "\n",
    "print \"Explained variance with LSA\"\n",
    "print svd.explained_variance_ratio_.sum()\n"
   ]
  },
  {
   "cell_type": "markdown",
   "metadata": {},
   "source": [
    "What are top 50 most useful terms based on article itself? Are those terms similar to the top 50 from step 2? "
   ]
  },
  {
   "cell_type": "code",
   "execution_count": 10,
   "metadata": {
    "collapsed": false
   },
   "outputs": [
    {
     "name": "stdout",
     "output_type": "stream",
     "text": [
      "5            access\n",
      "36            apple\n",
      "59             ball\n",
      "63         baseball\n",
      "78            bible\n",
      "79         biblical\n",
      "92           braves\n",
      "117         centris\n",
      "132          christ\n",
      "133       christian\n",
      "134    christianity\n",
      "135      christians\n",
      "221            died\n",
      "226           digex\n",
      "242           drive\n",
      "248           earth\n",
      "301          flight\n",
      "319            game\n",
      "320           games\n",
      "374           henry\n",
      "424           jesus\n",
      "426            jews\n",
      "438            kent\n",
      "452          koresh\n",
      "460          launch\n",
      "464          league\n",
      "542         mission\n",
      "551         monitor\n",
      "554            moon\n",
      "556        morality\n",
      "561            nasa\n",
      "575          newton\n",
      "602           orbit\n",
      "620          people\n",
      "639        pitching\n",
      "648            play\n",
      "650          player\n",
      "651         players\n",
      "695          quadra\n",
      "722        religion\n",
      "723       religious\n",
      "755            runs\n",
      "759         sandvik\n",
      "774          season\n",
      "792         shuttle\n",
      "822           space\n",
      "829         spencer\n",
      "877            team\n",
      "889          thanks\n",
      "995            year\n",
      "dtype: object\n"
     ]
    }
   ],
   "source": [
    "from sklearn.feature_selection import SelectKBest, f_classif\n",
    "columns = tfidf.get_feature_names()\n",
    "new_X = pd.Series(columns)\n",
    "\n",
    "selector = SelectKBest(f_classif, k=50)\n",
    "selected_data = selector.fit_transform(X, y)\n",
    "\n",
    "kbest = new_X[selector.get_support()]\n",
    "print kbest\n"
   ]
  },
  {
   "cell_type": "code",
   "execution_count": 11,
   "metadata": {
    "collapsed": false
   },
   "outputs": [
    {
     "data": {
      "image/png": "[encoded data removed]",
      "text/plain": [
       "<matplotlib.figure.Figure at 0x10a680a50>"
      ]
     },
     "metadata": {},
     "output_type": "display_data"
    }
   ],
   "source": [
    "plt.plot(svd.explained_variance_ratio_)\n",
    "plt.show()"
   ]
  },
  {
   "cell_type": "markdown",
   "metadata": {},
   "source": [
    "Plot the cummulative variace from the terms. x-axis: number of components; y-axis: cummulative variance. \n",
    "Based on the plot, decide how many principle components you need. "
   ]
  },
  {
   "cell_type": "markdown",
   "metadata": {},
   "source": [
    "#### 7. Fit the kmeans (Question: in this case, do you recommend running K-means without dimension reduction?)"
   ]
  },
  {
   "cell_type": "code",
   "execution_count": 12,
   "metadata": {
    "collapsed": true
   },
   "outputs": [],
   "source": [
    "km.fit(X_lsa)\n",
    "labels = y"
   ]
  },
  {
   "cell_type": "code",
   "execution_count": 13,
   "metadata": {
    "collapsed": false
   },
   "outputs": [
    {
     "name": "stdout",
     "output_type": "stream",
     "text": [
      "Use dimension reduction.\n"
     ]
    }
   ],
   "source": [
    "print \"Use dimension reduction.\""
   ]
  },
  {
   "cell_type": "markdown",
   "metadata": {
    "collapsed": true
   },
   "source": [
    "Print out your centroids. Look at the value for each centroid. Does each centroid represent a news group as expected? "
   ]
  },
  {
   "cell_type": "code",
   "execution_count": 14,
   "metadata": {
    "collapsed": false
   },
   "outputs": [
    {
     "name": "stdout",
     "output_type": "stream",
     "text": [
      "Top terms per cluster:\n",
      "['talk.religion.misc', 'rec.sport.baseball', 'comp.sys.mac.hardware', 'sci.space']\n",
      "Cluster 0:\n",
      "[u'university', u'posting', u'host', u'nntp', u'apple', u'know', u'thanks', u'drive', u'does', u'just']\n",
      "Cluster 1:\n",
      "[u'jesus', u'sandvik', u'christian', u'people', u'koresh', u'bible', u'brian', u'kent', u'morality', u'objective']\n",
      "Cluster 2:\n",
      "[u'space', u'nasa', u'access', u'henry', u'digex', u'shuttle', u'toronto', u'alaska', u'moon', u'launch']\n",
      "Cluster 3:\n",
      "[u'game', u'baseball', u'year', u'team', u'games', u'players', u'runs', u'braves', u'good', u'think']\n"
     ]
    }
   ],
   "source": [
    "print \"Top terms per cluster:\"\n",
    "\n",
    "original_space_centroids = svd.inverse_transform(km.cluster_centers_)\n",
    "order_centroids = original_space_centroids.argsort()[:, ::-1]\n",
    "\n",
    "terms = tfidf.get_feature_names()\n",
    "print categories\n",
    "\n",
    "for i in range(true_k):\n",
    "    print \"Cluster %d:\" % i \n",
    "    temp = []\n",
    "    for ind in order_centroids[i, :10]:\n",
    "        temp.append(terms[ind])\n",
    "    print temp\n"
   ]
  },
  {
   "cell_type": "markdown",
   "metadata": {},
   "source": [
    "#### 8. Check the performance of our kmeans"
   ]
  },
  {
   "cell_type": "code",
   "execution_count": 15,
   "metadata": {
    "collapsed": false
   },
   "outputs": [
    {
     "name": "stdout",
     "output_type": "stream",
     "text": [
      "Homogeneity: 0.572\n",
      "Completeness: 0.627\n",
      "V-measure: 0.598\n",
      "Adjusted Rand-Index: 0.480\n",
      "Silhouette Coefficient: 0.022\n"
     ]
    }
   ],
   "source": [
    "print \"Homogeneity: %0.3f\" % metrics.homogeneity_score(labels, km.labels_)\n",
    "print \"Completeness: %0.3f\" % metrics.completeness_score(labels, km.labels_) \n",
    "print \"V-measure: %0.3f\" % metrics.v_measure_score(labels, km.labels_) \n",
    "print \"Adjusted Rand-Index: %.3f\" % metrics.adjusted_rand_score(labels, km.labels_) \n",
    "print \"Silhouette Coefficient: %0.3f\" % metrics.silhouette_score(X_lsa, km.labels_, sample_size=1000) \n"
   ]
  },
  {
   "cell_type": "markdown",
   "metadata": {},
   "source": [
    "#### Classification Report"
   ]
  },
  {
   "cell_type": "code",
   "execution_count": 20,
   "metadata": {
    "collapsed": false
   },
   "outputs": [
    {
     "data": {
      "text/plain": [
       "array([[957,   0,   6,   0],\n",
       "       [218, 774,   2,   0],\n",
       "       [289,   4, 690,   4],\n",
       "       [226,   2,   5, 395]])"
      ]
     },
     "execution_count": 20,
     "metadata": {},
     "output_type": "execute_result"
    }
   ],
   "source": [
    "from sklearn.metrics import confusion_matrix, classification_report\n",
    "y_pred = np.choose(km.labels_, [0,3,2,1])\n",
    "\n",
    "confusion_matrix(y, y_pred)"
   ]
  },
  {
   "cell_type": "code",
   "execution_count": 21,
   "metadata": {
    "collapsed": false
   },
   "outputs": [
    {
     "name": "stdout",
     "output_type": "stream",
     "text": [
      "             precision    recall  f1-score   support\n",
      "\n",
      "          0       0.57      0.99      0.72       963\n",
      "          1       0.99      0.78      0.87       994\n",
      "          2       0.98      0.70      0.82       987\n",
      "          3       0.99      0.63      0.77       628\n",
      "\n",
      "avg / total       0.87      0.79      0.80      3572\n",
      "\n"
     ]
    }
   ],
   "source": [
    "print classification_report(y, y_pred)"
   ]
  },
  {
   "cell_type": "markdown",
   "metadata": {},
   "source": [
    "#### Confusion Matrix. Hint: create a map to translate the label between k-means clustering and the original target (newsgroups_train.target). "
   ]
  },
  {
   "cell_type": "code",
   "execution_count": null,
   "metadata": {
    "collapsed": false
   },
   "outputs": [],
   "source": [
    "# Above"
   ]
  },
  {
   "cell_type": "markdown",
   "metadata": {},
   "source": [
    "#### Note: Repeat the lab with:\n",
    "- varying values of \"k\" \n",
    "- trying a different way to pick starting centroids ('k-means++' is the default method for centroids). For example, pick one point from each newsgroup. "
   ]
  },
  {
   "cell_type": "code",
   "execution_count": null,
   "metadata": {
    "collapsed": true
   },
   "outputs": [],
   "source": [
    "# I really don't think I need to do this part after doing so many different kmeans in project 7"
   ]
  },
  {
   "cell_type": "code",
   "execution_count": null,
   "metadata": {
    "collapsed": false
   },
   "outputs": [],
   "source": []
  },
  {
   "cell_type": "code",
   "execution_count": null,
   "metadata": {
    "collapsed": true
   },
   "outputs": [],
   "source": []
  }
 ],
 "metadata": {
  "anaconda-cloud": {},
  "kernelspec": {
   "display_name": "Python [default]",
   "language": "python",
   "name": "python2"
  },
  "language_info": {
   "codemirror_mode": {
    "name": "ipython",
    "version": 2
   },
   "file_extension": ".py",
   "mimetype": "text/x-python",
   "name": "python",
   "nbconvert_exporter": "python",
   "pygments_lexer": "ipython2",
   "version": "2.7.12"
  }
 },
 "nbformat": 4,
 "nbformat_minor": 0
}
